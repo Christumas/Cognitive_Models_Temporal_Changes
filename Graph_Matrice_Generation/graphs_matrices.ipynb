{
 "cells": [
  {
   "cell_type": "code",
   "execution_count": 26,
   "metadata": {},
   "outputs": [],
   "source": [
    "from collections import namedtuple\n",
    "import numpy as np"
   ]
  },
  {
   "cell_type": "code",
   "execution_count": 23,
   "id": "2661ee8f",
   "metadata": {},
   "outputs": [
    {
     "data": {
      "text/plain": [
       "{'A': ['B', 'B', 'C', 'C', 'D'],\n",
       " 'B': ['A', 'A', 'D'],\n",
       " 'C': ['A', 'A', 'D'],\n",
       " 'D': ['A', 'B', 'C']}"
      ]
     },
     "execution_count": 23,
     "metadata": {},
     "output_type": "execute_result"
    }
   ],
   "source": [
    "Graph = namedtuple(\"Graph\", [\"nodes\", \"edges\"])\n",
    "\n",
    "nodes = [\"A\",\"B\",\"C\",\"D\"]\n",
    "edges = [\n",
    "    (\"A\",\"B\"),\n",
    "    (\"A\",\"B\"),\n",
    "    (\"A\",\"C\"),\n",
    "    (\"A\",\"C\"),\n",
    "    (\"A\",\"D\"),\n",
    "    (\"B\",\"D\"),\n",
    "    (\"C\",\"D\")\n",
    "]\n",
    "\n",
    "G = Graph(nodes,edges) \n",
    "\n",
    "adjacency_dict = {node:[] for node in G.nodes}\n",
    "\n",
    "for edge in G.edges:\n",
    "    node1, node2 = edge[0], edge[1]\n",
    "    adjacency_dict[node1].append(node2)\n",
    "    adjacency_dict[node2].append(node1)\n",
    "\n",
    "adjacency_dict"
   ]
  },
  {
   "cell_type": "code",
   "execution_count": 39,
   "id": "b7225d0d",
   "metadata": {},
   "outputs": [
    {
     "data": {
      "text/plain": [
       "[[5, 5, 5], [5, 5, 5], [5, 5, 5], [5, 5, 5], [5, 5, 5]]"
      ]
     },
     "execution_count": 39,
     "metadata": {},
     "output_type": "execute_result"
    }
   ],
   "source": [
    "[[5 for i in range(3)] for j in range(5)]"
   ]
  },
  {
   "cell_type": "code",
   "execution_count": 54,
   "id": "049507d4",
   "metadata": {},
   "outputs": [
    {
     "data": {
      "text/plain": [
       "[[0, 2, 2, 1], [2, 0, 0, 1], [2, 0, 0, 1], [1, 1, 1, 0]]"
      ]
     },
     "execution_count": 54,
     "metadata": {},
     "output_type": "execute_result"
    }
   ],
   "source": [
    "nodes = range(4)\n",
    "edges = [\n",
    "    (0,1),\n",
    "    (0,1),\n",
    "    (0,2),\n",
    "    (0,2),\n",
    "    (0,3),\n",
    "    (1,3),\n",
    "    (2,3)\n",
    "]\n",
    "\n",
    "G = Graph(nodes,edges)\n",
    "\n",
    "adj = [[0 for node in G.nodes] for node in G.nodes] \n",
    "\n",
    "for edge in G.edges:\n",
    "    node1,node2 = edge[0], edge[1]\n",
    "    adj[node1][node2] += 1\n",
    "    adj[node2][node1] += 1\n",
    "adj"
   ]
  },
  {
   "cell_type": "markdown",
   "id": "d4cd9b05",
   "metadata": {},
   "source": [
    "<h1>Generating an adjacency matrix for a graph</h1>\n",
    "\n"
   ]
  },
  {
   "cell_type": "markdown",
   "id": "cad2d424",
   "metadata": {},
   "source": [
    "<p>We define the graph nodes and edges as follows:</p>\n",
    "<img src=\"graphs.png\" height=\"400\" >\n",
    "<p> Then we generate a graph object using namedtuple from the collections module. </p>\n",
    "<p>We then define the edges manually to then generate an adjacency matrix</p>"
   ]
  },
  {
   "cell_type": "markdown",
   "id": "bb139775",
   "metadata": {},
   "source": [
    "<h3>Define the graph</h3>"
   ]
  },
  {
   "cell_type": "code",
   "execution_count": null,
   "id": "f8c3d32b",
   "metadata": {},
   "outputs": [],
   "source": [
    "#define the graph\n",
    "Graph = namedtuple(\"Graph\",[\"nodes\", \"edges\"]) #make a \"class\" and its \"attributes\"\n",
    "\n",
    "nodes = range(7)\n",
    "edges = [\n",
    "    (0,1),\n",
    "    (0,5),\n",
    "    (0,6),\n",
    "    (1,0),\n",
    "    (1,2),\n",
    "    (1,6),\n",
    "    (2,1),\n",
    "    (2,3),\n",
    "    (2,6),\n",
    "    (3,2),\n",
    "    (3,4),\n",
    "    (3,6),\n",
    "    (4,3),\n",
    "    (4,5),\n",
    "    (4,6),\n",
    "    (5,4),\n",
    "    (5,6),\n",
    "    (5,0),\n",
    "    (6,1),\n",
    "    (6,2),\n",
    "    (6,3),\n",
    "    (6,4),\n",
    "    (6,5),\n",
    "    (6,0)\n",
    "\n",
    "]\n",
    "\n",
    "G = Graph(nodes,edges)"
   ]
  },
  {
   "cell_type": "code",
   "execution_count": null,
   "id": "6d3e8b4d",
   "metadata": {},
   "outputs": [
    {
     "name": "stdout",
     "output_type": "stream",
     "text": [
      "3\n",
      "3\n",
      "3\n",
      "3\n",
      "3\n",
      "3\n",
      "6\n"
     ]
    }
   ],
   "source": [
    "numberofNodes = len(G.nodes)\n",
    "matrix_shape = (numberofNodes, numberofNodes)\n",
    "adj_matrix = np.zeros(matrix_shape)\n",
    "for edge in G.edges:\n",
    "    node1, node2 = edge[0], edge[1]\n",
    "    adj_matrix[node1][node2] +=1\n",
    "    adj_matrix[node2][node1] +=1\n",
    "\n",
    "adj_matrix = adj_matrix/2 #just to make everything 1s and 0s\n"
   ]
  },
  {
   "cell_type": "markdown",
   "id": "d0b70494",
   "metadata": {},
   "source": [
    "<h1>Creating a transition matrices</h1>"
   ]
  },
  {
   "cell_type": "markdown",
   "id": "57257ad0",
   "metadata": {},
   "source": [
    "      \n",
    "<p>The following adjacency matrix was generated by the above code for the graph(see below):</p>\n",
    "<img src=\"graphs.png\" height=\"400\" >\n",
    "      \n",
    "         0   1   2   3   4   5   6\n",
    "      0 [0., 1., 0., 0., 0., 1., 1.]\n",
    "      1 [1., 0., 1., 0., 0., 0., 1.]\n",
    "      2 [0., 1., 0., 1., 0., 0., 1.]\n",
    "      3 [0., 0., 1., 0., 1., 0., 1.]\n",
    "      4 [0., 0., 0., 1., 0., 1., 1.]\n",
    "      5 [1., 0., 0., 0., 1., 0., 1.]\n",
    "      6 [1., 1., 1., 1., 1., 1., 0.]\n",
    "\n",
    "<p>Using this adjacency matrix, we can easily create the transition matrix based off the probabilities defined in the figure.</p>\n",
    "<p>The stay probability of a node is defined by the looping arrow.</p>\n",
    "   <p>This stay probability is simply the edge connecting the node to itself. This is represented by the <strong>diagonal</strong> of the adjacency matrix.</p>\n",
    "<p>The transition probability of a node (to the next node) is simply then : (1 - stay probability of that node) / number of adjacent nodes.</p>"
   ]
  },
  {
   "cell_type": "code",
   "execution_count": 88,
   "id": "58e35fa6",
   "metadata": {},
   "outputs": [],
   "source": [
    "\n",
    "def generate_transitionMatrix(graph,stay_probability=0):\n",
    "    \"\"\"Function to create the transition matrix. We assume that the graph has already been created and the \n",
    "    relevant nodes and edges are clearly defined. \"\"\"\n",
    "\n",
    "    #get the number of nodes\n",
    "    numberofNodes = len(graph.nodes)\n",
    "    #get shape of the transition matrix \n",
    "    matrix_shape = (numberofNodes, numberofNodes)\n",
    "    #create the adjacent matrix with zeros\n",
    "    adj_matrix = np.zeros(matrix_shape)\n",
    "\n",
    "    for edge in graph.edges:\n",
    "        node1,node2 = edge[0],edge[1]\n",
    "        adj_matrix[node1][node2] += 1\n",
    "        adj_matrix[node2][node1] += 1\n",
    "    adj_matrix = adj_matrix/2 #just to make everything 1s and 0s\n",
    "    \n",
    "    #lets keep the calculation of the transition probabilites dynamic based off the number of adjacent nodes from\n",
    "    #a starting node and the stay probability of that starting node\n",
    "    #therefore what we should have is: transition probability = (1 - stay probability) / number of adjacent nodes\n",
    "\n",
    "    #set the stay probability of the matrix for each node \n",
    "    np.fill_diagonal(adj_matrix,stay_probability)\n",
    "\n",
    "    #lets get the number of neighbours for each node by reading off the total number of 1s (adjacent nodes)\n",
    "    for row in adj_matrix:\n",
    "        #we assume that the loops of a node to itself are already defined in the edges of the graph\n",
    "        number_adjacent_nodes = np.count_nonzero(row == 1)\n",
    "        transition_probability = (1 - stay_probability) / number_adjacent_nodes\n",
    "        \n",
    "\n"
   ]
  }
 ],
 "metadata": {
  "kernelspec": {
   "display_name": "base",
   "language": "python",
   "name": "python3"
  },
  "language_info": {
   "codemirror_mode": {
    "name": "ipython",
    "version": 3
   },
   "file_extension": ".py",
   "mimetype": "text/x-python",
   "name": "python",
   "nbconvert_exporter": "python",
   "pygments_lexer": "ipython3",
   "version": "3.11.4"
  }
 },
 "nbformat": 4,
 "nbformat_minor": 5
}
